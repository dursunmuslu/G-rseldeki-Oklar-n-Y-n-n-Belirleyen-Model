{
 "cells": [
  {
   "cell_type": "code",
   "execution_count": 1,
   "id": "9ad2191d-d8ce-455a-9e79-d9957576bd3a",
   "metadata": {},
   "outputs": [
    {
     "data": {
      "image/png": "[encoded data removed]",
      "text/plain": [
       "<Figure size 640x480 with 1 Axes>"
      ]
     },
     "metadata": {},
     "output_type": "display_data"
    }
   ],
   "source": [
    "import cv2\n",
    "import numpy as np\n",
    "import matplotlib.pyplot as plt\n",
    "\n",
    "# Görüntüyü yükle\n",
    "image_path = 'C:/Users/dursu/images/oklar.jpg'\n",
    "image = cv2.imread(image_path)\n",
    "\n",
    "# Görüntüyü gri tonlamaya çevir\n",
    "gray = cv2.cvtColor(image, cv2.COLOR_BGR2GRAY)\n",
    "\n",
    "# Bulanıklaştırma\n",
    "blurred = cv2.GaussianBlur(gray, (5, 5), 0)\n",
    "\n",
    "# Kenarları tespit et (Canny kenar tespiti)\n",
    "edges = cv2.Canny(blurred, 50, 150)\n",
    "\n",
    "contours, _ = cv2.findContours(edges, cv2.RETR_EXTERNAL, cv2.CHAIN_APPROX_SIMPLE)\n",
    "\n",
    "for cnt in contours:\n",
    "    approx = cv2.approxPolyDP(cnt, 0.02 * cv2.arcLength(cnt, True), True)\n",
    "    if len(approx) >= 5: \n",
    "        x, y, w, h = cv2.boundingRect(cnt)\n",
    "        cv2.rectangle(image, (x, y), (x + w, y + h), (0, 255, 0), 2)\n",
    "        \n",
    "        M = cv2.moments(cnt)\n",
    "        if M['m00'] != 0:\n",
    "            cx = int(M['m10'] / M['m00'])  # X ekseninde ağırlık merkezi\n",
    "            cy = int(M['m01'] / M['m00'])  # Y ekseninde ağırlık merkezi\n",
    "            \n",
    "            (x1, y1), (x2, y2) = approx[0][0], approx[-1][0]\n",
    "            \n",
    "            # Okun yön açısını hesapla\n",
    "            angle = np.arctan2(y2 - y1, x2 - x1) * 180 / np.pi\n",
    "            \n",
    "            # Açılara göre yönü belirle\n",
    "            if -0 <= angle <= 45:\n",
    "                direction = \"Yukari\"\n",
    "            elif 45 < angle <= 135:\n",
    "                direction = \"Sag\"\n",
    "            elif angle >= 135 or angle <= -135:\n",
    "                direction = \"Asagi\"\n",
    "            else:\n",
    "                direction = \"Sol\"\n",
    "            \n",
    "            # Yönü merkeze yaz\n",
    "            cv2.putText(image, direction, (cx - 30, cy), cv2.FONT_HERSHEY_SIMPLEX, 0.9, (0, 0, 255), 2)\n",
    "\n",
    "# Sonuç görüntüsünü göster\n",
    "plt.imshow(cv2.cvtColor(image, cv2.COLOR_BGR2RGB))\n",
    "plt.axis('off')\n",
    "plt.show()"
   ]
  },
  {
   "cell_type": "code",
   "execution_count": null,
   "id": "b8d98313-80ad-4028-be6d-922e00bd4835",
   "metadata": {},
   "outputs": [],
   "source": []
  },
  {
   "cell_type": "code",
   "execution_count": null,
   "id": "0d329be5-0d7c-4386-97ce-5b2a9930738b",
   "metadata": {},
   "outputs": [],
   "source": []
  }
 ],
 "metadata": {
  "kernelspec": {
   "display_name": "Python 3 (ipykernel)",
   "language": "python",
   "name": "python3"
  },
  "language_info": {
   "codemirror_mode": {
    "name": "ipython",
    "version": 3
   },
   "file_extension": ".py",
   "mimetype": "text/x-python",
   "name": "python",
   "nbconvert_exporter": "python",
   "pygments_lexer": "ipython3",
   "version": "3.12.4"
  }
 },
 "nbformat": 4,
 "nbformat_minor": 5
}
